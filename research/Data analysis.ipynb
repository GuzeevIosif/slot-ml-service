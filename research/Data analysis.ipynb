{
 "cells": [
  {
   "cell_type": "code",
   "execution_count": 3,
   "id": "3f0936e4",
   "metadata": {},
   "outputs": [],
   "source": [
    "import pandas as pd\n",
    "import matplotlib.pyplot as plt"
   ]
  },
  {
   "cell_type": "code",
   "execution_count": 145,
   "id": "1d1d7fe1",
   "metadata": {},
   "outputs": [
    {
     "data": {
      "text/html": [
       "<div>\n",
       "<style scoped>\n",
       "    .dataframe tbody tr th:only-of-type {\n",
       "        vertical-align: middle;\n",
       "    }\n",
       "\n",
       "    .dataframe tbody tr th {\n",
       "        vertical-align: top;\n",
       "    }\n",
       "\n",
       "    .dataframe thead th {\n",
       "        text-align: right;\n",
       "    }\n",
       "</style>\n",
       "<table border=\"1\" class=\"dataframe\">\n",
       "  <thead>\n",
       "    <tr style=\"text-align: right;\">\n",
       "      <th></th>\n",
       "      <th>meta1</th>\n",
       "      <th>id</th>\n",
       "      <th>meta2</th>\n",
       "      <th>vector</th>\n",
       "      <th>meta3</th>\n",
       "      <th>meta6</th>\n",
       "      <th>meta4</th>\n",
       "      <th>meta5</th>\n",
       "    </tr>\n",
       "  </thead>\n",
       "  <tbody>\n",
       "    <tr>\n",
       "      <th>0</th>\n",
       "      <td>REQUEST_ARGS</td>\n",
       "      <td>b147cf91e3f220c070f9d7aed65fa6b6</td>\n",
       "      <td>room-type</td>\n",
       "      <td>5257{${print(chr(49).chr(55).chr(73).chr(53).c...</td>\n",
       "      <td>200</td>\n",
       "      <td>77.221.130.13</td>\n",
       "      <td>401</td>\n",
       "      <td>{${print(chr(49).chr(55).chr(73).chr(53).chr(5...</td>\n",
       "    </tr>\n",
       "    <tr>\n",
       "      <th>1</th>\n",
       "      <td>REQUEST_PATH</td>\n",
       "      <td>8965845630b7becb6029dd68f84ca59c</td>\n",
       "      <td>REQUEST_PATH</td>\n",
       "      <td>/mail/tll/eaotaht.nsf/($Inbox)/FF02CBCEE47E0DD...</td>\n",
       "      <td>200</td>\n",
       "      <td>146.255.182.16</td>\n",
       "      <td>1318</td>\n",
       "      <td>Mozilla/5.0 (iPhone; CPU iPhone OS 10_3_1 like...</td>\n",
       "    </tr>\n",
       "    <tr>\n",
       "      <th>2</th>\n",
       "      <td>REQUEST_JSON</td>\n",
       "      <td>8d211f8d38f78e64c5699acf5f6d01b9</td>\n",
       "      <td>pageY</td>\n",
       "      <td>-98</td>\n",
       "      <td>200</td>\n",
       "      <td>62.33.168.30</td>\n",
       "      <td>960</td>\n",
       "      <td>Mozilla/5.0 (Windows NT 5.1; rv:52.0) Gecko/20...</td>\n",
       "    </tr>\n",
       "    <tr>\n",
       "      <th>3</th>\n",
       "      <td>REQUEST_GET_ARGS</td>\n",
       "      <td>eafa80c4d8a7f369a4f04295a8c8b3e2</td>\n",
       "      <td>REQUEST_GET_ARGS._</td>\n",
       "      <td>912013373</td>\n",
       "      <td>404</td>\n",
       "      <td>109.172.30.185</td>\n",
       "      <td>601</td>\n",
       "      <td>Mozilla/5.0 (Windows NT 10.0; Win64; x64) Appl...</td>\n",
       "    </tr>\n",
       "    <tr>\n",
       "      <th>4</th>\n",
       "      <td>REQUEST_METHOD\\';\\'REQUEST_HEADE</td>\n",
       "      <td>ae5aec9a6514b01f11fb3d9f2cf7701f</td>\n",
       "      <td>X-Requested-With\\';\\'CSRF_TOKEN</td>\n",
       "      <td>POST\\';\\'XMLHttpRequest\\';\\'14f2e70b072e12f42c...</td>\n",
       "      <td>403</td>\n",
       "      <td>212.33.244.15</td>\n",
       "      <td>1191</td>\n",
       "      <td>Mozilla/5.0 (Windows NT 5.1; rv:52.0) Gecko/20...</td>\n",
       "    </tr>\n",
       "    <tr>\n",
       "      <th>...</th>\n",
       "      <td>...</td>\n",
       "      <td>...</td>\n",
       "      <td>...</td>\n",
       "      <td>...</td>\n",
       "      <td>...</td>\n",
       "      <td>...</td>\n",
       "      <td>...</td>\n",
       "      <td>...</td>\n",
       "    </tr>\n",
       "    <tr>\n",
       "      <th>493</th>\n",
       "      <td>REQUEST_POST_ARGS</td>\n",
       "      <td>50012828c9111a20a4a66edc7016e557</td>\n",
       "      <td>REQUEST_POST_ARGS.rid</td>\n",
       "      <td>3543169957</td>\n",
       "      <td>200</td>\n",
       "      <td>37.46.129.136</td>\n",
       "      <td>691</td>\n",
       "      <td>User-Agent: Mozilla/5.0 (Windows NT 10.0; WOW6...</td>\n",
       "    </tr>\n",
       "    <tr>\n",
       "      <th>494</th>\n",
       "      <td>REQUEST_GET_ARGS</td>\n",
       "      <td>eb6cc7fe91e83e26abb634ebb8b92472</td>\n",
       "      <td>backurl</td>\n",
       "      <td>/news/tags/ãîñóäàðñòâåííàÿ áåçîïàñíîñòü/?tags=...</td>\n",
       "      <td>200</td>\n",
       "      <td>5.45.207.38</td>\n",
       "      <td>592</td>\n",
       "      <td>Mozilla/5.0 (compatible; YandexBot/3.0; +http:...</td>\n",
       "    </tr>\n",
       "    <tr>\n",
       "      <th>495</th>\n",
       "      <td>REQUEST_HEADERS</td>\n",
       "      <td>146fc6421a8afde13e58e6f1b7953fa4</td>\n",
       "      <td>Referer</td>\n",
       "      <td>file://localhost/mtd_down/widgets/user/nStream...</td>\n",
       "      <td>200</td>\n",
       "      <td>62.227.54.192</td>\n",
       "      <td>563</td>\n",
       "      <td>Mozilla/5.0 (Windows; U; en-US; rv:1.8.1.11; G...</td>\n",
       "    </tr>\n",
       "    <tr>\n",
       "      <th>496</th>\n",
       "      <td>REQUEST_ARGS</td>\n",
       "      <td>4aa28433ddcd5cf24b736ae01437a398</td>\n",
       "      <td>m</td>\n",
       "      <td>201404&amp;quot;|ls &amp;quot;-la</td>\n",
       "      <td>200</td>\n",
       "      <td>46.148.48.24</td>\n",
       "      <td>121</td>\n",
       "      <td>&amp;quot;|ls &amp;quot;-la</td>\n",
       "    </tr>\n",
       "    <tr>\n",
       "      <th>497</th>\n",
       "      <td>REQUEST_POST_ARGS</td>\n",
       "      <td>c14d50f3321b041a2319364694f0e7ac</td>\n",
       "      <td>pwd</td>\n",
       "      <td>abc123</td>\n",
       "      <td>404</td>\n",
       "      <td>139.129.14.230</td>\n",
       "      <td>378</td>\n",
       "      <td>Mozilla/5.0 (Windows NT 6.1; rv:5.0) Gecko/201...</td>\n",
       "    </tr>\n",
       "  </tbody>\n",
       "</table>\n",
       "<p>498 rows × 8 columns</p>\n",
       "</div>"
      ],
      "text/plain": [
       "                                meta1                                id  \\\n",
       "0                        REQUEST_ARGS  b147cf91e3f220c070f9d7aed65fa6b6   \n",
       "1                        REQUEST_PATH  8965845630b7becb6029dd68f84ca59c   \n",
       "2                        REQUEST_JSON  8d211f8d38f78e64c5699acf5f6d01b9   \n",
       "3                    REQUEST_GET_ARGS  eafa80c4d8a7f369a4f04295a8c8b3e2   \n",
       "4    REQUEST_METHOD\\';\\'REQUEST_HEADE  ae5aec9a6514b01f11fb3d9f2cf7701f   \n",
       "..                                ...                               ...   \n",
       "493                 REQUEST_POST_ARGS  50012828c9111a20a4a66edc7016e557   \n",
       "494                  REQUEST_GET_ARGS  eb6cc7fe91e83e26abb634ebb8b92472   \n",
       "495                   REQUEST_HEADERS  146fc6421a8afde13e58e6f1b7953fa4   \n",
       "496                      REQUEST_ARGS  4aa28433ddcd5cf24b736ae01437a398   \n",
       "497                 REQUEST_POST_ARGS  c14d50f3321b041a2319364694f0e7ac   \n",
       "\n",
       "                               meta2  \\\n",
       "0                          room-type   \n",
       "1                       REQUEST_PATH   \n",
       "2                              pageY   \n",
       "3                 REQUEST_GET_ARGS._   \n",
       "4    X-Requested-With\\';\\'CSRF_TOKEN   \n",
       "..                               ...   \n",
       "493            REQUEST_POST_ARGS.rid   \n",
       "494                          backurl   \n",
       "495                          Referer   \n",
       "496                                m   \n",
       "497                              pwd   \n",
       "\n",
       "                                                vector  meta3           meta6  \\\n",
       "0    5257{${print(chr(49).chr(55).chr(73).chr(53).c...    200   77.221.130.13   \n",
       "1    /mail/tll/eaotaht.nsf/($Inbox)/FF02CBCEE47E0DD...    200  146.255.182.16   \n",
       "2                                                  -98    200    62.33.168.30   \n",
       "3                                            912013373    404  109.172.30.185   \n",
       "4    POST\\';\\'XMLHttpRequest\\';\\'14f2e70b072e12f42c...    403   212.33.244.15   \n",
       "..                                                 ...    ...             ...   \n",
       "493                                         3543169957    200   37.46.129.136   \n",
       "494  /news/tags/ãîñóäàðñòâåííàÿ áåçîïàñíîñòü/?tags=...    200     5.45.207.38   \n",
       "495  file://localhost/mtd_down/widgets/user/nStream...    200   62.227.54.192   \n",
       "496                          201404&quot;|ls &quot;-la    200    46.148.48.24   \n",
       "497                                             abc123    404  139.129.14.230   \n",
       "\n",
       "     meta4                                              meta5  \n",
       "0      401  {${print(chr(49).chr(55).chr(73).chr(53).chr(5...  \n",
       "1     1318  Mozilla/5.0 (iPhone; CPU iPhone OS 10_3_1 like...  \n",
       "2      960  Mozilla/5.0 (Windows NT 5.1; rv:52.0) Gecko/20...  \n",
       "3      601  Mozilla/5.0 (Windows NT 10.0; Win64; x64) Appl...  \n",
       "4     1191  Mozilla/5.0 (Windows NT 5.1; rv:52.0) Gecko/20...  \n",
       "..     ...                                                ...  \n",
       "493    691  User-Agent: Mozilla/5.0 (Windows NT 10.0; WOW6...  \n",
       "494    592  Mozilla/5.0 (compatible; YandexBot/3.0; +http:...  \n",
       "495    563  Mozilla/5.0 (Windows; U; en-US; rv:1.8.1.11; G...  \n",
       "496    121                                &quot;|ls &quot;-la  \n",
       "497    378  Mozilla/5.0 (Windows NT 6.1; rv:5.0) Gecko/201...  \n",
       "\n",
       "[498 rows x 8 columns]"
      ]
     },
     "execution_count": 145,
     "metadata": {},
     "output_type": "execute_result"
    }
   ],
   "source": [
    "# pre-loaded chunk of traffic\n",
    "# you can get all data from DataBase easily\n",
    "df = pd.read_csv(\"data_chunk.csv\")\n",
    "df"
   ]
  },
  {
   "cell_type": "code",
   "execution_count": 70,
   "id": "45808983",
   "metadata": {},
   "outputs": [
    {
     "data": {
      "text/plain": [
       "meta1                  498\n",
       "id                     498\n",
       "meta2                  381\n",
       "vector                 498\n",
       "meta3                  498\n",
       "meta6                  498\n",
       "meta4                  498\n",
       "meta5                  494\n",
       "text                   378\n",
       "is_header_corrupted    498\n",
       "http_code              498\n",
       "dtype: int64"
      ]
     },
     "execution_count": 70,
     "metadata": {},
     "output_type": "execute_result"
    }
   ],
   "source": [
    "# Nan is presented in some columns\n",
    "df.count()"
   ]
  },
  {
   "cell_type": "markdown",
   "id": "87dca11c",
   "metadata": {},
   "source": [
    "### Columns and it's meaning"
   ]
  },
  {
   "cell_type": "code",
   "execution_count": 19,
   "id": "96996856",
   "metadata": {},
   "outputs": [
    {
     "data": {
      "text/plain": [
       "REQUEST_ARGS                        116\n",
       "REQUEST_GET_ARGS                     96\n",
       "REQUEST_POST_ARGS                    74\n",
       "REQUEST_HEADERS                      42\n",
       "REQUEST_COOKIES                      32\n",
       "REQUEST_PATH                         29\n",
       "REQUEST_URI                          26\n",
       "REQUEST_METHOD\\';\\'REQUEST_CONTE     19\n",
       "REQUEST_ARGS_KEYS                    18\n",
       "CLIENT_USERAGENT                     12\n",
       "CLIENT_SESSION_ID                    11\n",
       "REQUEST_METHOD\\';\\'REQUEST_HEADE      6\n",
       "RESPONSE_HEADERS                      4\n",
       "REQUEST_XML                           4\n",
       "REQUEST_JSON                          3\n",
       "REQUEST_URI\\';\\'REQUEST_ARGS          3\n",
       "RESPONSE_BODY                         3\n",
       "Name: meta1, dtype: int64"
      ]
     },
     "execution_count": 19,
     "metadata": {},
     "output_type": "execute_result"
    }
   ],
   "source": [
    "df.meta1.value_counts()"
   ]
  },
  {
   "cell_type": "markdown",
   "id": "06a80edc",
   "metadata": {},
   "source": [
    "It seems that `meta1` is a request type, but rarely it can be corrupted (on purpose may be?)"
   ]
  },
  {
   "cell_type": "code",
   "execution_count": 20,
   "id": "82e6afa6",
   "metadata": {},
   "outputs": [
    {
     "data": {
      "text/plain": [
       "REQUEST_GET_ARGS._                 30\n",
       "pwd                                28\n",
       "action                             19\n",
       "url                                18\n",
       "reference to                       14\n",
       "anj                                12\n",
       "User-Agent                         10\n",
       "Referer                             9\n",
       "a                                   8\n",
       "X-Requested-With\\';\\'CSRF_TOKEN     8\n",
       "Name: meta2, dtype: int64"
      ]
     },
     "execution_count": 20,
     "metadata": {},
     "output_type": "execute_result"
    }
   ],
   "source": [
    "df.meta2.value_counts()[:10]"
   ]
  },
  {
   "cell_type": "markdown",
   "id": "fbb0fd20",
   "metadata": {},
   "source": [
    "Nothing comes to my mind, probably some meta information about request (connected with `meta1` I guess)"
   ]
  },
  {
   "cell_type": "code",
   "execution_count": 21,
   "id": "cb302462",
   "metadata": {},
   "outputs": [
    {
     "data": {
      "text/plain": [
       "200    276\n",
       "404     93\n",
       "302     44\n",
       "301     19\n",
       "502     14\n",
       "403     13\n",
       "405     12\n",
       "504      6\n",
       "304      6\n",
       "400      5\n",
       "Name: meta3, dtype: int64"
      ]
     },
     "execution_count": 21,
     "metadata": {},
     "output_type": "execute_result"
    }
   ],
   "source": [
    "df.meta3.value_counts()[:10]"
   ]
  },
  {
   "cell_type": "markdown",
   "id": "8c92ad77",
   "metadata": {},
   "source": [
    "`meta3` is http-code response I believe."
   ]
  },
  {
   "cell_type": "code",
   "execution_count": 22,
   "id": "ceec3e40",
   "metadata": {},
   "outputs": [
    {
     "data": {
      "text/plain": [
       "count       498.000000\n",
       "mean       4565.520080\n",
       "std       25147.388104\n",
       "min          74.000000\n",
       "25%         402.250000\n",
       "50%         613.000000\n",
       "75%        1054.500000\n",
       "max      446211.000000\n",
       "Name: meta4, dtype: float64"
      ]
     },
     "execution_count": 22,
     "metadata": {},
     "output_type": "execute_result"
    }
   ],
   "source": [
    "df.meta4.describe()"
   ]
  },
  {
   "cell_type": "code",
   "execution_count": 23,
   "id": "67953923",
   "metadata": {},
   "outputs": [
    {
     "data": {
      "text/plain": [
       "meta1                                          REQUEST_ARGS\n",
       "id                         8bcae893f25d2e7e0e98fee2eb801f38\n",
       "meta2                                          add_file_cat\n",
       "vector                          ../upload/file/gazeta/2015/\n",
       "meta3                                                   200\n",
       "meta6                                         188.227.49.12\n",
       "meta4                                                446211\n",
       "meta5     Mozilla/5.0 (Windows NT 6.1; WOW64) AppleWebKi...\n",
       "Name: 143, dtype: object"
      ]
     },
     "execution_count": 23,
     "metadata": {},
     "output_type": "execute_result"
    }
   ],
   "source": [
    "df.loc[df.meta4.argmax()]"
   ]
  },
  {
   "cell_type": "markdown",
   "id": "0d7d714f",
   "metadata": {},
   "source": [
    "I can't get the meaning of this column."
   ]
  },
  {
   "cell_type": "code",
   "execution_count": 29,
   "id": "52aebf13",
   "metadata": {},
   "outputs": [
    {
     "data": {
      "text/plain": [
       "0    {${print(chr(49).chr(55).chr(73).chr(53).chr(5...\n",
       "1    Mozilla/5.0 (iPhone; CPU iPhone OS 10_3_1 like...\n",
       "2    Mozilla/5.0 (Windows NT 5.1; rv:52.0) Gecko/20...\n",
       "3    Mozilla/5.0 (Windows NT 10.0; Win64; x64) Appl...\n",
       "4    Mozilla/5.0 (Windows NT 5.1; rv:52.0) Gecko/20...\n",
       "Name: meta5, dtype: object"
      ]
     },
     "execution_count": 29,
     "metadata": {},
     "output_type": "execute_result"
    }
   ],
   "source": [
    "df.meta5.head()"
   ]
  },
  {
   "cell_type": "markdown",
   "id": "cf2e303b",
   "metadata": {},
   "source": [
    "`meta5` is mostly user info, but sometimes we have injections here (first row)."
   ]
  },
  {
   "cell_type": "code",
   "execution_count": 31,
   "id": "d4f09953",
   "metadata": {},
   "outputs": [
    {
     "data": {
      "text/plain": [
       "0     77.221.130.13\n",
       "1    146.255.182.16\n",
       "2      62.33.168.30\n",
       "3    109.172.30.185\n",
       "4     212.33.244.15\n",
       "Name: meta6, dtype: object"
      ]
     },
     "execution_count": 31,
     "metadata": {},
     "output_type": "execute_result"
    }
   ],
   "source": [
    "df.meta6.head()"
   ]
  },
  {
   "cell_type": "markdown",
   "id": "b3816559",
   "metadata": {},
   "source": [
    "`meta6` - IP of the user."
   ]
  },
  {
   "cell_type": "markdown",
   "id": "c71c0104",
   "metadata": {},
   "source": [
    "Summation:\n",
    "\n",
    "1. `meta1` can be used as a feature on pattern matching base. If `meta1` is like `REQUEST_[A-Z]`, then it's non-corrupted. Otherwise it can mark some injections.\n",
    "\n",
    "2. I don't see much special information given by `meta2`, but in can be concatenated to `vector` along with `meta5`.\n",
    "\n",
    "3. `meta3` can be useful, due to server can detect injected queries by itself, but it needs to be tested.\n",
    "\n",
    "4. `meta4` is a mistery for me.\n",
    "\n",
    "5. User IP (`meta6`) can be informative, but only as geographical mark (or, if we would form IP balcklist)."
   ]
  },
  {
   "cell_type": "markdown",
   "id": "2eaa11bc",
   "metadata": {},
   "source": [
    "### Feature engineering"
   ]
  },
  {
   "cell_type": "markdown",
   "id": "f74433e1",
   "metadata": {},
   "source": [
    "Lets remove requests with \"corrupted\" `meta1` and `meta5`, and vectorize it."
   ]
  },
  {
   "cell_type": "code",
   "execution_count": 152,
   "id": "72ac2ac0",
   "metadata": {
    "scrolled": true
   },
   "outputs": [
    {
     "name": "stderr",
     "output_type": "stream",
     "text": [
      "C:\\Users\\Joseph\\AppData\\Local\\Temp/ipykernel_3140/806187193.py:7: UserWarning: This pattern has match groups. To actually get the groups, use str.extract.\n",
      "  df[(df.meta1.str.fullmatch(request_header_pattern)) & (~df.meta5.str.contains(browsers_pattern, case=False, regex=True))]\n"
     ]
    },
    {
     "data": {
      "text/html": [
       "<div>\n",
       "<style scoped>\n",
       "    .dataframe tbody tr th:only-of-type {\n",
       "        vertical-align: middle;\n",
       "    }\n",
       "\n",
       "    .dataframe tbody tr th {\n",
       "        vertical-align: top;\n",
       "    }\n",
       "\n",
       "    .dataframe thead th {\n",
       "        text-align: right;\n",
       "    }\n",
       "</style>\n",
       "<table border=\"1\" class=\"dataframe\">\n",
       "  <thead>\n",
       "    <tr style=\"text-align: right;\">\n",
       "      <th></th>\n",
       "      <th>meta1</th>\n",
       "      <th>id</th>\n",
       "      <th>meta2</th>\n",
       "      <th>vector</th>\n",
       "      <th>meta3</th>\n",
       "      <th>meta6</th>\n",
       "      <th>meta4</th>\n",
       "      <th>meta5</th>\n",
       "    </tr>\n",
       "  </thead>\n",
       "  <tbody>\n",
       "    <tr>\n",
       "      <th>0</th>\n",
       "      <td>REQUEST_ARGS</td>\n",
       "      <td>b147cf91e3f220c070f9d7aed65fa6b6</td>\n",
       "      <td>room-type</td>\n",
       "      <td>5257{${print(chr(49).chr(55).chr(73).chr(53).c...</td>\n",
       "      <td>200</td>\n",
       "      <td>77.221.130.13</td>\n",
       "      <td>401</td>\n",
       "      <td>{${print(chr(49).chr(55).chr(73).chr(53).chr(5...</td>\n",
       "    </tr>\n",
       "    <tr>\n",
       "      <th>11</th>\n",
       "      <td>REQUEST_ARGS</td>\n",
       "      <td>53bf3b744639104764352e53049714cb</td>\n",
       "      <td>module</td>\n",
       "      <td>custompage\");ls -la;factor 228000;/*</td>\n",
       "      <td>200</td>\n",
       "      <td>46.175.253.135</td>\n",
       "      <td>195</td>\n",
       "      <td>\");ls -la;factor 228000;/*</td>\n",
       "    </tr>\n",
       "    <tr>\n",
       "      <th>15</th>\n",
       "      <td>REQUEST_ARGS</td>\n",
       "      <td>82e6da59f81a3d418ab39c470e0cd331</td>\n",
       "      <td>manufactur</td>\n",
       "      <td>999000224|${ls -la;factor 228000}</td>\n",
       "      <td>200</td>\n",
       "      <td>77.221.130.13</td>\n",
       "      <td>184</td>\n",
       "      <td>|${ls -la;factor 228000}</td>\n",
       "    </tr>\n",
       "    <tr>\n",
       "      <th>22</th>\n",
       "      <td>REQUEST_ARGS</td>\n",
       "      <td>8d7a070e462b93a9f73efc562bb6ccee</td>\n",
       "      <td>author</td>\n",
       "      <td>11'{${print(chr(49).chr(55).chr(73).chr(53).ch...</td>\n",
       "      <td>200</td>\n",
       "      <td>109.194.227.26</td>\n",
       "      <td>324</td>\n",
       "      <td>'{${print(chr(49).chr(55).chr(73).chr(53).chr(...</td>\n",
       "    </tr>\n",
       "    <tr>\n",
       "      <th>33</th>\n",
       "      <td>REQUEST_XML</td>\n",
       "      <td>779db5da6291c9ba5e290127a02018ee</td>\n",
       "      <td>REQUEST_XML./s:Envelope/s:Body/DeviceMetadataB...</td>\n",
       "      <td>DOID:USBSTOR\\\\DiskTOSHIBA_STOR.E_EDITION__</td>\n",
       "      <td>200</td>\n",
       "      <td>217.175.140.69</td>\n",
       "      <td>2399</td>\n",
       "      <td>MICROSOFT_DEVICE_METADATA_RETRIEVAL_CLIENT</td>\n",
       "    </tr>\n",
       "    <tr>\n",
       "      <th>...</th>\n",
       "      <td>...</td>\n",
       "      <td>...</td>\n",
       "      <td>...</td>\n",
       "      <td>...</td>\n",
       "      <td>...</td>\n",
       "      <td>...</td>\n",
       "      <td>...</td>\n",
       "      <td>...</td>\n",
       "    </tr>\n",
       "    <tr>\n",
       "      <th>466</th>\n",
       "      <td>REQUEST_GET_ARGS</td>\n",
       "      <td>3eb5cce13e8a9895ea042d70666ae11a</td>\n",
       "      <td>action</td>\n",
       "      <td>rsd UNION ALL SELECT NULL,NULL,NULL,NULL,NULL,...</td>\n",
       "      <td>403</td>\n",
       "      <td>185.92.73.109</td>\n",
       "      <td>473</td>\n",
       "      <td>Opera/9.62 (Windows NT 6.0; U; nb) Presto/2.1.1</td>\n",
       "    </tr>\n",
       "    <tr>\n",
       "      <th>473</th>\n",
       "      <td>REQUEST_HEADERS</td>\n",
       "      <td>7d483d042b3e6f8c5e5b67d902baf6f5</td>\n",
       "      <td>Authorization</td>\n",
       "      <td>SP Digest username=\\\"%D1%81%D0%B2%D0%B8%D1%81%...</td>\n",
       "      <td>401</td>\n",
       "      <td>188.170.195.24</td>\n",
       "      <td>270</td>\n",
       "      <td>Android</td>\n",
       "    </tr>\n",
       "    <tr>\n",
       "      <th>474</th>\n",
       "      <td>REQUEST_ARGS</td>\n",
       "      <td>401119ab5f96ec119bf1cf92e24c95ac</td>\n",
       "      <td>path</td>\n",
       "      <td>file:///storage/emulated/0/Android/data/ru.spi...</td>\n",
       "      <td>200</td>\n",
       "      <td>93.170.21.99</td>\n",
       "      <td>307</td>\n",
       "      <td>Apache-HttpClient/UNAVAILABLE (java 1.4)</td>\n",
       "    </tr>\n",
       "    <tr>\n",
       "      <th>483</th>\n",
       "      <td>REQUEST_ARGS</td>\n",
       "      <td>b404c766439fd5fbae73112f93452b03</td>\n",
       "      <td>q</td>\n",
       "      <td>ru\"];ls -la;factor 228000;/*</td>\n",
       "      <td>404</td>\n",
       "      <td>46.148.48.24</td>\n",
       "      <td>133</td>\n",
       "      <td>\"];ls -la;factor 228000;/*</td>\n",
       "    </tr>\n",
       "    <tr>\n",
       "      <th>496</th>\n",
       "      <td>REQUEST_ARGS</td>\n",
       "      <td>4aa28433ddcd5cf24b736ae01437a398</td>\n",
       "      <td>m</td>\n",
       "      <td>201404&amp;quot;|ls &amp;quot;-la</td>\n",
       "      <td>200</td>\n",
       "      <td>46.148.48.24</td>\n",
       "      <td>121</td>\n",
       "      <td>&amp;quot;|ls &amp;quot;-la</td>\n",
       "    </tr>\n",
       "  </tbody>\n",
       "</table>\n",
       "<p>69 rows × 8 columns</p>\n",
       "</div>"
      ],
      "text/plain": [
       "                meta1                                id  \\\n",
       "0        REQUEST_ARGS  b147cf91e3f220c070f9d7aed65fa6b6   \n",
       "11       REQUEST_ARGS  53bf3b744639104764352e53049714cb   \n",
       "15       REQUEST_ARGS  82e6da59f81a3d418ab39c470e0cd331   \n",
       "22       REQUEST_ARGS  8d7a070e462b93a9f73efc562bb6ccee   \n",
       "33        REQUEST_XML  779db5da6291c9ba5e290127a02018ee   \n",
       "..                ...                               ...   \n",
       "466  REQUEST_GET_ARGS  3eb5cce13e8a9895ea042d70666ae11a   \n",
       "473   REQUEST_HEADERS  7d483d042b3e6f8c5e5b67d902baf6f5   \n",
       "474      REQUEST_ARGS  401119ab5f96ec119bf1cf92e24c95ac   \n",
       "483      REQUEST_ARGS  b404c766439fd5fbae73112f93452b03   \n",
       "496      REQUEST_ARGS  4aa28433ddcd5cf24b736ae01437a398   \n",
       "\n",
       "                                                 meta2  \\\n",
       "0                                            room-type   \n",
       "11                                              module   \n",
       "15                                          manufactur   \n",
       "22                                              author   \n",
       "33   REQUEST_XML./s:Envelope/s:Body/DeviceMetadataB...   \n",
       "..                                                 ...   \n",
       "466                                             action   \n",
       "473                                      Authorization   \n",
       "474                                               path   \n",
       "483                                                  q   \n",
       "496                                                  m   \n",
       "\n",
       "                                                vector  meta3           meta6  \\\n",
       "0    5257{${print(chr(49).chr(55).chr(73).chr(53).c...    200   77.221.130.13   \n",
       "11                custompage\");ls -la;factor 228000;/*    200  46.175.253.135   \n",
       "15                   999000224|${ls -la;factor 228000}    200   77.221.130.13   \n",
       "22   11'{${print(chr(49).chr(55).chr(73).chr(53).ch...    200  109.194.227.26   \n",
       "33          DOID:USBSTOR\\\\DiskTOSHIBA_STOR.E_EDITION__    200  217.175.140.69   \n",
       "..                                                 ...    ...             ...   \n",
       "466  rsd UNION ALL SELECT NULL,NULL,NULL,NULL,NULL,...    403   185.92.73.109   \n",
       "473  SP Digest username=\\\"%D1%81%D0%B2%D0%B8%D1%81%...    401  188.170.195.24   \n",
       "474  file:///storage/emulated/0/Android/data/ru.spi...    200    93.170.21.99   \n",
       "483                       ru\"];ls -la;factor 228000;/*    404    46.148.48.24   \n",
       "496                          201404&quot;|ls &quot;-la    200    46.148.48.24   \n",
       "\n",
       "     meta4                                              meta5  \n",
       "0      401  {${print(chr(49).chr(55).chr(73).chr(53).chr(5...  \n",
       "11     195                         \");ls -la;factor 228000;/*  \n",
       "15     184                           |${ls -la;factor 228000}  \n",
       "22     324  '{${print(chr(49).chr(55).chr(73).chr(53).chr(...  \n",
       "33    2399         MICROSOFT_DEVICE_METADATA_RETRIEVAL_CLIENT  \n",
       "..     ...                                                ...  \n",
       "466    473    Opera/9.62 (Windows NT 6.0; U; nb) Presto/2.1.1  \n",
       "473    270                                            Android  \n",
       "474    307           Apache-HttpClient/UNAVAILABLE (java 1.4)  \n",
       "483    133                         \"];ls -la;factor 228000;/*  \n",
       "496    121                                &quot;|ls &quot;-la  \n",
       "\n",
       "[69 rows x 8 columns]"
      ]
     },
     "execution_count": 152,
     "metadata": {},
     "output_type": "execute_result"
    }
   ],
   "source": [
    "request_header_pattern = \"REQUEST(\\_[A-Z]+)+\"\n",
    "browsers_pattern = \"(\" + \"|\".join([\"(mozilla)\", \"(chrome)\", \"(safari)\"]) + \")\"\n",
    "\n",
    "#df[(df.meta1.str.fullmatch()) & (df.meta5.str.contains(\"|\"))]\n",
    "# remove all nans\n",
    "df = df.dropna()\n",
    "df[(df.meta1.str.fullmatch(request_header_pattern)) & (~df.meta5.str.contains(browsers_pattern, case=False, regex=True))]"
   ]
  },
  {
   "cell_type": "markdown",
   "id": "e0073807",
   "metadata": {},
   "source": [
    "##### Vectorization"
   ]
  },
  {
   "cell_type": "markdown",
   "id": "0a6c568e",
   "metadata": {},
   "source": [
    "Straigt forward TF-IDF vectorization cannot be performed. We have to tokenize text by hand first, due to non-natural language data type."
   ]
  },
  {
   "cell_type": "code",
   "execution_count": 213,
   "id": "f25ee382",
   "metadata": {},
   "outputs": [
    {
     "data": {
      "text/html": [
       "<div>\n",
       "<style scoped>\n",
       "    .dataframe tbody tr th:only-of-type {\n",
       "        vertical-align: middle;\n",
       "    }\n",
       "\n",
       "    .dataframe tbody tr th {\n",
       "        vertical-align: top;\n",
       "    }\n",
       "\n",
       "    .dataframe thead th {\n",
       "        text-align: right;\n",
       "    }\n",
       "</style>\n",
       "<table border=\"1\" class=\"dataframe\">\n",
       "  <thead>\n",
       "    <tr style=\"text-align: right;\">\n",
       "      <th></th>\n",
       "      <th>vector</th>\n",
       "      <th>cluster</th>\n",
       "    </tr>\n",
       "  </thead>\n",
       "  <tbody>\n",
       "    <tr>\n",
       "      <th>0</th>\n",
       "      <td>5257{${print(chr(49).chr(55).chr(73).chr(53).c...</td>\n",
       "      <td>1</td>\n",
       "    </tr>\n",
       "    <tr>\n",
       "      <th>1</th>\n",
       "      <td>/mail/tll/eaotaht.nsf/($Inbox)/FF02CBCEE47E0DD...</td>\n",
       "      <td>0</td>\n",
       "    </tr>\n",
       "    <tr>\n",
       "      <th>2</th>\n",
       "      <td>-98</td>\n",
       "      <td>0</td>\n",
       "    </tr>\n",
       "    <tr>\n",
       "      <th>3</th>\n",
       "      <td>912013373</td>\n",
       "      <td>0</td>\n",
       "    </tr>\n",
       "    <tr>\n",
       "      <th>4</th>\n",
       "      <td>POST\\';\\'XMLHttpRequest\\';\\'14f2e70b072e12f42c...</td>\n",
       "      <td>0</td>\n",
       "    </tr>\n",
       "    <tr>\n",
       "      <th>...</th>\n",
       "      <td>...</td>\n",
       "      <td>...</td>\n",
       "    </tr>\n",
       "    <tr>\n",
       "      <th>493</th>\n",
       "      <td>3543169957</td>\n",
       "      <td>0</td>\n",
       "    </tr>\n",
       "    <tr>\n",
       "      <th>494</th>\n",
       "      <td>/news/tags/ãîñóäàðñòâåííàÿ áåçîïàñíîñòü/?tags=...</td>\n",
       "      <td>0</td>\n",
       "    </tr>\n",
       "    <tr>\n",
       "      <th>495</th>\n",
       "      <td>file://localhost/mtd_down/widgets/user/nStream...</td>\n",
       "      <td>0</td>\n",
       "    </tr>\n",
       "    <tr>\n",
       "      <th>496</th>\n",
       "      <td>201404&amp;quot;|ls &amp;quot;-la</td>\n",
       "      <td>0</td>\n",
       "    </tr>\n",
       "    <tr>\n",
       "      <th>497</th>\n",
       "      <td>abc123</td>\n",
       "      <td>0</td>\n",
       "    </tr>\n",
       "  </tbody>\n",
       "</table>\n",
       "<p>378 rows × 2 columns</p>\n",
       "</div>"
      ],
      "text/plain": [
       "                                                vector  cluster\n",
       "0    5257{${print(chr(49).chr(55).chr(73).chr(53).c...        1\n",
       "1    /mail/tll/eaotaht.nsf/($Inbox)/FF02CBCEE47E0DD...        0\n",
       "2                                                  -98        0\n",
       "3                                            912013373        0\n",
       "4    POST\\';\\'XMLHttpRequest\\';\\'14f2e70b072e12f42c...        0\n",
       "..                                                 ...      ...\n",
       "493                                         3543169957        0\n",
       "494  /news/tags/ãîñóäàðñòâåííàÿ áåçîïàñíîñòü/?tags=...        0\n",
       "495  file://localhost/mtd_down/widgets/user/nStream...        0\n",
       "496                          201404&quot;|ls &quot;-la        0\n",
       "497                                             abc123        0\n",
       "\n",
       "[378 rows x 2 columns]"
      ]
     },
     "execution_count": 213,
     "metadata": {},
     "output_type": "execute_result"
    }
   ],
   "source": [
    "from sklearn.feature_extraction.text import TfidfVectorizer\n",
    "from sklearn.cluster import KMeans\n",
    "\n",
    "# Strainght forward soltion\n",
    "text = df[\"vector\"]\n",
    "X = TfidfVectorizer(max_features=500, strip_accents=\"ascii\",norm=\"l1\").fit_transform(text)\n",
    "kmeans = KMeans(n_clusters=2, random_state=0).fit(X)\n",
    "df[\"cluster\"] = kmeans.predict(X)\n",
    "df[[\"vector\", \"cluster\"]]"
   ]
  },
  {
   "cell_type": "code",
   "execution_count": 214,
   "id": "d37cdadd",
   "metadata": {},
   "outputs": [
    {
     "data": {
      "text/plain": [
       "cluster\n",
       "0    363\n",
       "1     15\n",
       "Name: vector, dtype: int64"
      ]
     },
     "execution_count": 214,
     "metadata": {},
     "output_type": "execute_result"
    }
   ],
   "source": [
    "df.groupby(\"cluster\")[\"vector\"].count()"
   ]
  },
  {
   "cell_type": "code",
   "execution_count": 215,
   "id": "e033be7c",
   "metadata": {},
   "outputs": [
    {
     "data": {
      "text/plain": [
       "array(['/mail/tll/eaotaht.nsf/($Inbox)/FF02CBCEE47E0DD080258226004EBC1A/',\n",
       "       '-98', '912013373',\n",
       "       \"POST\\\\';\\\\'XMLHttpRequest\\\\';\\\\'14f2e70b072e12f42ca4421570deb577812ff61eacd5da8de266337010fd64447645eb039a4aaaa5\",\n",
       "       '311464954',\n",
       "       'wqT_3QLNBvBCTQMAAAMA1gAFAQirm8zTBRDhz4eSqejfxh0YrNSAu86QwqksKjYJcD0K16NwzT8RcT0K16NwzT8ZAAAAgD0KIEAhcQ0SBClxDQnIMQAAAGBmZuY_MNiT2wE4mAJAmRRIAlCsn_UmWImyGGAAaKGxOHin1QSAAQGKAQNVU0SSBQbwXpgBrAKgAdgEqAEBsAEAuAEBwAEFyAEC0AEA2AEA4AEA8AEA-gEJTVNOUlVSVTExigI7dWYoJ2EnLCAyMTc0MDUzLCAxNTE3NDg5NTc5KTt1ZigncicsIDgxNjEyNzE2Nh4A8IeSAvUBIUxqTUZ2d2lFZzRVSkVLeWY5U1lZQUNDSnNoZ3dBRGdBUUFCSW1SUlEySlBiQVZnQVlEeG9BSEJXZUJTQUFjQUJpQUVVa0FFQm1BRUJvQUVCcUFFRHNBRUF1UUZndUFfSnBIRE5QOEVCWUxnUHlhUnd6VF9KQVFBQUFBQUFBUEFfMlFFCQxoQUR3UC1BQkFQVUJINFZyUHBnQ0FLQUNBTFVDBSEETDAJCPBMTUFDQU1nQ0FPQUNBT2dDQVBnQ0FJQURBWkFEQUpnREFhZ0RoSU9GQ2JvREVXUmxabUYxYkhRalJsSkJNVG96T1RFepoCOSFMZ3RzNWc2-AD0KAFpYklZSUFBb0FEb1JaR1ZtWVhWc2RDTkdVa0V4T2pNNU1UTS6yAiAxNTE2RThGRjY4MUE2NEMyMUM5Q0UzNzg2OTY4NjU5MdgCAeACmMEe6gIoaHR0cDovL3d3dy5tc24uY29tL3J1LXJ1Lz9vY2lkPWllaHAmQVI9NIADAIgDAZADkPUXmAMXoAMBqgMAwAOsAsgDANgDpgXgAwDoAwD4AwKABACSBAYvdXQvdjOYBACiBA4yMTcuMTc1LjE0MC42OagEgRmyBBIIBRAEGKwCIPoBKAEoAjAAOAK4BADABADIBADSBBFkZWZhdWx0I0ZSQTE6MzkxM9oEAggB',\n",
       "       'custompage\");ls -la;factor 228000;/*',\n",
       "       \"dTM7k!M4/K@/9KT:5HM7EvosfG:I_-V`rKROz0sxr!I`JrK\\\\'Lz3M1ArTxD3_.)WGJ0sny8sEh?.gK*m*<pR7s_7u6PLr2=D$uz\\\\'!bAACPfGapA^W?jVl*Kqn(GJ7>iiAh7^ZZnP[I]jgLi>rIWJe@OsHrH_9I%d.*)0UlJ%!%(tA*5!TuH1Ev@fqAb3`$sI8#:<a.]_60?]>p06RAdio<y#8lKI90XiN*4B#^yc./7$Ds?-0/8PY(?X[VhL%)m6sUCeK)%/gbX>xUD?T n$U>]>AOB2p]7=ay5L<k-n4c3IIp$62Svz8<k?A_32vx2fXC8QP?S\\\\'@. ^6v `Kp<d/qzmM]X7Syxv[<*xJWZ6_gP$8<o1R!m7^pSgirq4$vA(2xQ>c sf1iSRNFqzRse-]kqMuWnP)J.$E49(]<w!5(J`yI@(Mt:1Rl=W)A[.lCflN)<tzA9l3f`bPHbM=fbQ70qC^g_sq5.<-.f^7R 5YvVpic/3-7GcBVv\\\\'$Cb6lPnCJkh! ?@Xq1:@>77#!HrRha!`GLZGiQ..M%#[Z:UMaMTSpHsQ]if5rAS5y]IwFNF9b\\\\'YQe/cJ9D7C/sZsg4B)<`CJDLroCXLOGv5`FyFDhHzD84h0=0cCr!y4xlQwT2T*Il[v^TQfPacskrlKUdBEAJxRq<InlI4Ye9R#RqzynMx8007W0c(QT1<GXM_TH8Ss(8auWPGF%m<F4A)Pc^Ank7B1Dz$l@ t*w2O:wLw(ObE)-^6@]V0.?_QU<dzO$`ZC-!a` D*U4Awm![y8jI%QN?83W@i?6PLeajk@KbsG%J6/$/.tVlh2!As8XFkL5d#\\\\'35%ZVdtGjSg1J_2*i9a^rMbRdr715J#m^MNh2*F`ql)9^Y!i-rb1VoUMkoF*Av#z:Xa5-b89f3U PnyraFPF%K\\\\'cJjB9vwt]Z%T ^n0hS-TV5o>rAs#ZlE2uWD7Rw80S]3pb%@^$k:OWzqw@bdobhdStUUYcyMyPdJ\",\n",
       "       'Mozilla/5.00 (Nikto/2.1.6) (Evasions:None) (Test:004116)',\n",
       "       '999000224|${ls -la;factor 228000}'], dtype=object)"
      ]
     },
     "execution_count": 215,
     "metadata": {},
     "output_type": "execute_result"
    }
   ],
   "source": [
    "df.query(\"cluster == 0\")[\"vector\"].values[:10]"
   ]
  },
  {
   "cell_type": "code",
   "execution_count": 216,
   "id": "50314987",
   "metadata": {
    "scrolled": false
   },
   "outputs": [
    {
     "data": {
      "text/plain": [
       "array(['5257{${print(chr(49).chr(55).chr(73).chr(53).chr(51).chr(48).chr(86).chr(65).chr(117).chr(52))}}',\n",
       "       \"11'{${print(chr(49).chr(55).chr(73).chr(53).chr(51).chr(48).chr(86).chr(65).chr(117).chr(52))}}'\",\n",
       "       'salut4|{${print(chr(49).chr(55).chr(73).chr(53).chr(51).chr(48).chr(86).chr(65).chr(117).chr(52))}}',\n",
       "       'account/newsletter|{${print(chr(49).chr(55).chr(73).chr(53).chr(51).chr(48).chr(86).chr(65).chr(117).chr(52))}}',\n",
       "       \"999007249'{${print(chr(49).chr(55).chr(73).chr(53).chr(51).chr(48).chr(86).chr(65).chr(117).chr(52))}}'\",\n",
       "       'shop.browse|{${print(chr(49).chr(55).chr(73).chr(53).chr(51).chr(48).chr(86).chr(65).chr(117).chr(52))}}',\n",
       "       'Armand Basi|{${print(chr(49).chr(55).chr(73).chr(53).chr(51).chr(48).chr(86).chr(65).chr(117).chr(52))}}',\n",
       "       '2565{${print(chr(49).chr(55).chr(73).chr(53).chr(51).chr(48).chr(86).chr(65).chr(117).chr(52))}}',\n",
       "       '3|{${print(chr(49).chr(55).chr(73).chr(53).chr(51).chr(48).chr(86).chr(65).chr(117).chr(52))}}',\n",
       "       '344{${print(chr(49).chr(55).chr(73).chr(53).chr(51).chr(48).chr(86).chr(65).chr(117).chr(52))}}'],\n",
       "      dtype=object)"
      ]
     },
     "execution_count": 216,
     "metadata": {},
     "output_type": "execute_result"
    }
   ],
   "source": [
    "df.query(\"cluster == 1\")[\"vector\"].values[:10]"
   ]
  },
  {
   "cell_type": "markdown",
   "id": "9d165bdd",
   "metadata": {},
   "source": [
    "Broot force solution summation:\n",
    "\n",
    "Other clustering algorithms must be tested.\n",
    "\n",
    "Some inejctions (ex. SQL) can looks like natural language."
   ]
  },
  {
   "cell_type": "code",
   "execution_count": 324,
   "id": "188eb352",
   "metadata": {},
   "outputs": [
    {
     "data": {
      "text/html": [
       "<div>\n",
       "<style scoped>\n",
       "    .dataframe tbody tr th:only-of-type {\n",
       "        vertical-align: middle;\n",
       "    }\n",
       "\n",
       "    .dataframe tbody tr th {\n",
       "        vertical-align: top;\n",
       "    }\n",
       "\n",
       "    .dataframe thead th {\n",
       "        text-align: right;\n",
       "    }\n",
       "</style>\n",
       "<table border=\"1\" class=\"dataframe\">\n",
       "  <thead>\n",
       "    <tr style=\"text-align: right;\">\n",
       "      <th></th>\n",
       "      <th>vector</th>\n",
       "      <th>special_symbols_count</th>\n",
       "      <th>numeric_symbols_count</th>\n",
       "    </tr>\n",
       "  </thead>\n",
       "  <tbody>\n",
       "    <tr>\n",
       "      <th>0</th>\n",
       "      <td>5257{${print(chr(49).chr(55).chr(73).chr(53).c...</td>\n",
       "      <td>36</td>\n",
       "      <td>25</td>\n",
       "    </tr>\n",
       "    <tr>\n",
       "      <th>1</th>\n",
       "      <td>/mail/tll/eaotaht.nsf/($Inbox)/FF02CBCEE47E0DD...</td>\n",
       "      <td>10</td>\n",
       "      <td>18</td>\n",
       "    </tr>\n",
       "    <tr>\n",
       "      <th>2</th>\n",
       "      <td>-98</td>\n",
       "      <td>1</td>\n",
       "      <td>2</td>\n",
       "    </tr>\n",
       "    <tr>\n",
       "      <th>3</th>\n",
       "      <td>912013373</td>\n",
       "      <td>0</td>\n",
       "      <td>9</td>\n",
       "    </tr>\n",
       "    <tr>\n",
       "      <th>4</th>\n",
       "      <td>POST\\';\\'XMLHttpRequest\\';\\'14f2e70b072e12f42c...</td>\n",
       "      <td>10</td>\n",
       "      <td>51</td>\n",
       "    </tr>\n",
       "    <tr>\n",
       "      <th>8</th>\n",
       "      <td>311464954</td>\n",
       "      <td>0</td>\n",
       "      <td>9</td>\n",
       "    </tr>\n",
       "    <tr>\n",
       "      <th>9</th>\n",
       "      <td>wqT_3QLNBvBCTQMAAAMA1gAFAQirm8zTBRDhz4eSqejfxh...</td>\n",
       "      <td>5</td>\n",
       "      <td>107</td>\n",
       "    </tr>\n",
       "    <tr>\n",
       "      <th>11</th>\n",
       "      <td>custompage\");ls -la;factor 228000;/*</td>\n",
       "      <td>10</td>\n",
       "      <td>6</td>\n",
       "    </tr>\n",
       "    <tr>\n",
       "      <th>13</th>\n",
       "      <td>dTM7k!M4/K@/9KT:5HM7EvosfG:I_-V`rKROz0sxr!I`Jr...</td>\n",
       "      <td>267</td>\n",
       "      <td>134</td>\n",
       "    </tr>\n",
       "    <tr>\n",
       "      <th>14</th>\n",
       "      <td>Mozilla/5.00 (Nikto/2.1.6) (Evasions:None) (Te...</td>\n",
       "      <td>16</td>\n",
       "      <td>12</td>\n",
       "    </tr>\n",
       "  </tbody>\n",
       "</table>\n",
       "</div>"
      ],
      "text/plain": [
       "                                               vector  special_symbols_count  \\\n",
       "0   5257{${print(chr(49).chr(55).chr(73).chr(53).c...                     36   \n",
       "1   /mail/tll/eaotaht.nsf/($Inbox)/FF02CBCEE47E0DD...                     10   \n",
       "2                                                 -98                      1   \n",
       "3                                           912013373                      0   \n",
       "4   POST\\';\\'XMLHttpRequest\\';\\'14f2e70b072e12f42c...                     10   \n",
       "8                                           311464954                      0   \n",
       "9   wqT_3QLNBvBCTQMAAAMA1gAFAQirm8zTBRDhz4eSqejfxh...                      5   \n",
       "11               custompage\");ls -la;factor 228000;/*                     10   \n",
       "13  dTM7k!M4/K@/9KT:5HM7EvosfG:I_-V`rKROz0sxr!I`Jr...                    267   \n",
       "14  Mozilla/5.00 (Nikto/2.1.6) (Evasions:None) (Te...                     16   \n",
       "\n",
       "    numeric_symbols_count  \n",
       "0                      25  \n",
       "1                      18  \n",
       "2                       2  \n",
       "3                       9  \n",
       "4                      51  \n",
       "8                       9  \n",
       "9                     107  \n",
       "11                      6  \n",
       "13                    134  \n",
       "14                     12  "
      ]
     },
     "execution_count": 324,
     "metadata": {},
     "output_type": "execute_result"
    }
   ],
   "source": [
    "# Add new features to increase separability\n",
    "\n",
    "df[\"special_symbols_count\"] = df.vector.str.count(\"[^0-9a-zA-Z]\").values.reshape(-1, 1)\n",
    "df[\"numeric_symbols_count\"] = df.vector.str.count(\"[0-9]\")\n",
    "df[[\"vector\", \"special_symbols_count\", \"numeric_symbols_count\"]].head(10)"
   ]
  },
  {
   "cell_type": "code",
   "execution_count": 325,
   "id": "280b873b",
   "metadata": {},
   "outputs": [],
   "source": [
    "import numpy as np\n",
    "\n",
    "\n",
    "def min_max_scaling(x):\n",
    "    return (x - x.min()) / (x.max() - x.min())\n",
    "\n",
    "\n",
    "def filter_string(s):\n",
    "    return ' '.join([word for word in s.split() if len(word) >= 3])\n",
    "\n",
    "\n",
    "cleaned_text = text.str.replace(f\"[^a-zA-Z]+\", \" \",regex=True).apply(filter_string).str.lower()\n",
    "X = TfidfVectorizer(max_features=500, strip_accents=\"ascii\",norm=\"l1\").fit_transform(cleaned_text)\n",
    "X_with_new_features = np.hstack([\n",
    "    X.toarray(),\n",
    "    df[\"numeric_symbols_count\"].values.reshape(-1, 1),\n",
    "    df[\"special_symbols_count\"].values.reshape(-1, 1)\n",
    "])\n",
    "X_with_new_features[:, -2] = min_max_scaling(X_with_new_features[:, -2])\n",
    "X_with_new_features[:, -1] = min_max_scaling(X_with_new_features[:, -1])"
   ]
  },
  {
   "cell_type": "code",
   "execution_count": 335,
   "id": "f5ce9a45",
   "metadata": {},
   "outputs": [
    {
     "data": {
      "text/html": [
       "<div>\n",
       "<style scoped>\n",
       "    .dataframe tbody tr th:only-of-type {\n",
       "        vertical-align: middle;\n",
       "    }\n",
       "\n",
       "    .dataframe tbody tr th {\n",
       "        vertical-align: top;\n",
       "    }\n",
       "\n",
       "    .dataframe thead th {\n",
       "        text-align: right;\n",
       "    }\n",
       "</style>\n",
       "<table border=\"1\" class=\"dataframe\">\n",
       "  <thead>\n",
       "    <tr style=\"text-align: right;\">\n",
       "      <th></th>\n",
       "      <th>vector</th>\n",
       "      <th>cluster</th>\n",
       "    </tr>\n",
       "  </thead>\n",
       "  <tbody>\n",
       "    <tr>\n",
       "      <th>0</th>\n",
       "      <td>5257{${print(chr(49).chr(55).chr(73).chr(53).c...</td>\n",
       "      <td>1</td>\n",
       "    </tr>\n",
       "    <tr>\n",
       "      <th>1</th>\n",
       "      <td>/mail/tll/eaotaht.nsf/($Inbox)/FF02CBCEE47E0DD...</td>\n",
       "      <td>1</td>\n",
       "    </tr>\n",
       "    <tr>\n",
       "      <th>2</th>\n",
       "      <td>-98</td>\n",
       "      <td>1</td>\n",
       "    </tr>\n",
       "    <tr>\n",
       "      <th>3</th>\n",
       "      <td>912013373</td>\n",
       "      <td>1</td>\n",
       "    </tr>\n",
       "    <tr>\n",
       "      <th>4</th>\n",
       "      <td>POST\\';\\'XMLHttpRequest\\';\\'14f2e70b072e12f42c...</td>\n",
       "      <td>1</td>\n",
       "    </tr>\n",
       "    <tr>\n",
       "      <th>...</th>\n",
       "      <td>...</td>\n",
       "      <td>...</td>\n",
       "    </tr>\n",
       "    <tr>\n",
       "      <th>493</th>\n",
       "      <td>3543169957</td>\n",
       "      <td>1</td>\n",
       "    </tr>\n",
       "    <tr>\n",
       "      <th>494</th>\n",
       "      <td>/news/tags/ãîñóäàðñòâåííàÿ áåçîïàñíîñòü/?tags=...</td>\n",
       "      <td>1</td>\n",
       "    </tr>\n",
       "    <tr>\n",
       "      <th>495</th>\n",
       "      <td>file://localhost/mtd_down/widgets/user/nStream...</td>\n",
       "      <td>1</td>\n",
       "    </tr>\n",
       "    <tr>\n",
       "      <th>496</th>\n",
       "      <td>201404&amp;quot;|ls &amp;quot;-la</td>\n",
       "      <td>1</td>\n",
       "    </tr>\n",
       "    <tr>\n",
       "      <th>497</th>\n",
       "      <td>abc123</td>\n",
       "      <td>1</td>\n",
       "    </tr>\n",
       "  </tbody>\n",
       "</table>\n",
       "<p>378 rows × 2 columns</p>\n",
       "</div>"
      ],
      "text/plain": [
       "                                                vector  cluster\n",
       "0    5257{${print(chr(49).chr(55).chr(73).chr(53).c...        1\n",
       "1    /mail/tll/eaotaht.nsf/($Inbox)/FF02CBCEE47E0DD...        1\n",
       "2                                                  -98        1\n",
       "3                                            912013373        1\n",
       "4    POST\\';\\'XMLHttpRequest\\';\\'14f2e70b072e12f42c...        1\n",
       "..                                                 ...      ...\n",
       "493                                         3543169957        1\n",
       "494  /news/tags/ãîñóäàðñòâåííàÿ áåçîïàñíîñòü/?tags=...        1\n",
       "495  file://localhost/mtd_down/widgets/user/nStream...        1\n",
       "496                          201404&quot;|ls &quot;-la        1\n",
       "497                                             abc123        1\n",
       "\n",
       "[378 rows x 2 columns]"
      ]
     },
     "execution_count": 335,
     "metadata": {},
     "output_type": "execute_result"
    }
   ],
   "source": [
    "kmeans = KMeans(n_clusters=2, random_state=0).fit(X_with_new_features)\n",
    "df[\"cluster\"] = kmeans.predict(X_with_new_features)\n",
    "df[[\"vector\", \"cluster\"]]"
   ]
  },
  {
   "cell_type": "code",
   "execution_count": 336,
   "id": "d9709869",
   "metadata": {},
   "outputs": [
    {
     "data": {
      "text/plain": [
       "cluster\n",
       "0     39\n",
       "1    339\n",
       "Name: vector, dtype: int64"
      ]
     },
     "execution_count": 336,
     "metadata": {},
     "output_type": "execute_result"
    }
   ],
   "source": [
    "df.groupby(\"cluster\")[\"vector\"].count()"
   ]
  },
  {
   "cell_type": "code",
   "execution_count": 337,
   "id": "37ffe7da",
   "metadata": {
    "scrolled": true
   },
   "outputs": [
    {
     "data": {
      "text/plain": [
       "array(['http://www.selva.com/', 'http://9pvtlq6j.b.wlrm.tl/a.dtd',\n",
       "       'http://stzr6wea.b.wlrm.tl/a.dtd',\n",
       "       'WordPress/4.6.1; http://fishing.ahtubinsk.ru',\n",
       "       'http://uh9svjen.a.wlrm.tl/b.ent',\n",
       "       'http://f2eqy5n4.b.wlrm.tl/b.ent',\n",
       "       'http://wmipqmwt.a.wlrm.tl/a.dtd',\n",
       "       'http://i3l6in0c.b.wlrm.tl/a.dtd',\n",
       "       'http://n9uqsfai.b.wlrm.tl/a.dtd',\n",
       "       'http://zbjvju54.a.wlrm.tl/a.dtd'], dtype=object)"
      ]
     },
     "execution_count": 337,
     "metadata": {},
     "output_type": "execute_result"
    }
   ],
   "source": [
    "df.query(\"cluster == 0\")[\"vector\"].values[:10]"
   ]
  },
  {
   "cell_type": "code",
   "execution_count": 338,
   "id": "a656f72e",
   "metadata": {
    "scrolled": false
   },
   "outputs": [
    {
     "data": {
      "text/plain": [
       "array(['5257{${print(chr(49).chr(55).chr(73).chr(53).chr(51).chr(48).chr(86).chr(65).chr(117).chr(52))}}',\n",
       "       '/mail/tll/eaotaht.nsf/($Inbox)/FF02CBCEE47E0DD080258226004EBC1A/',\n",
       "       '-98', '912013373',\n",
       "       \"POST\\\\';\\\\'XMLHttpRequest\\\\';\\\\'14f2e70b072e12f42ca4421570deb577812ff61eacd5da8de266337010fd64447645eb039a4aaaa5\",\n",
       "       '311464954',\n",
       "       'wqT_3QLNBvBCTQMAAAMA1gAFAQirm8zTBRDhz4eSqejfxh0YrNSAu86QwqksKjYJcD0K16NwzT8RcT0K16NwzT8ZAAAAgD0KIEAhcQ0SBClxDQnIMQAAAGBmZuY_MNiT2wE4mAJAmRRIAlCsn_UmWImyGGAAaKGxOHin1QSAAQGKAQNVU0SSBQbwXpgBrAKgAdgEqAEBsAEAuAEBwAEFyAEC0AEA2AEA4AEA8AEA-gEJTVNOUlVSVTExigI7dWYoJ2EnLCAyMTc0MDUzLCAxNTE3NDg5NTc5KTt1ZigncicsIDgxNjEyNzE2Nh4A8IeSAvUBIUxqTUZ2d2lFZzRVSkVLeWY5U1lZQUNDSnNoZ3dBRGdBUUFCSW1SUlEySlBiQVZnQVlEeG9BSEJXZUJTQUFjQUJpQUVVa0FFQm1BRUJvQUVCcUFFRHNBRUF1UUZndUFfSnBIRE5QOEVCWUxnUHlhUnd6VF9KQVFBQUFBQUFBUEFfMlFFCQxoQUR3UC1BQkFQVUJINFZyUHBnQ0FLQUNBTFVDBSEETDAJCPBMTUFDQU1nQ0FPQUNBT2dDQVBnQ0FJQURBWkFEQUpnREFhZ0RoSU9GQ2JvREVXUmxabUYxYkhRalJsSkJNVG96T1RFepoCOSFMZ3RzNWc2-AD0KAFpYklZSUFBb0FEb1JaR1ZtWVhWc2RDTkdVa0V4T2pNNU1UTS6yAiAxNTE2RThGRjY4MUE2NEMyMUM5Q0UzNzg2OTY4NjU5MdgCAeACmMEe6gIoaHR0cDovL3d3dy5tc24uY29tL3J1LXJ1Lz9vY2lkPWllaHAmQVI9NIADAIgDAZADkPUXmAMXoAMBqgMAwAOsAsgDANgDpgXgAwDoAwD4AwKABACSBAYvdXQvdjOYBACiBA4yMTcuMTc1LjE0MC42OagEgRmyBBIIBRAEGKwCIPoBKAEoAjAAOAK4BADABADIBADSBBFkZWZhdWx0I0ZSQTE6MzkxM9oEAggB',\n",
       "       'custompage\");ls -la;factor 228000;/*',\n",
       "       \"dTM7k!M4/K@/9KT:5HM7EvosfG:I_-V`rKROz0sxr!I`JrK\\\\'Lz3M1ArTxD3_.)WGJ0sny8sEh?.gK*m*<pR7s_7u6PLr2=D$uz\\\\'!bAACPfGapA^W?jVl*Kqn(GJ7>iiAh7^ZZnP[I]jgLi>rIWJe@OsHrH_9I%d.*)0UlJ%!%(tA*5!TuH1Ev@fqAb3`$sI8#:<a.]_60?]>p06RAdio<y#8lKI90XiN*4B#^yc./7$Ds?-0/8PY(?X[VhL%)m6sUCeK)%/gbX>xUD?T n$U>]>AOB2p]7=ay5L<k-n4c3IIp$62Svz8<k?A_32vx2fXC8QP?S\\\\'@. ^6v `Kp<d/qzmM]X7Syxv[<*xJWZ6_gP$8<o1R!m7^pSgirq4$vA(2xQ>c sf1iSRNFqzRse-]kqMuWnP)J.$E49(]<w!5(J`yI@(Mt:1Rl=W)A[.lCflN)<tzA9l3f`bPHbM=fbQ70qC^g_sq5.<-.f^7R 5YvVpic/3-7GcBVv\\\\'$Cb6lPnCJkh! ?@Xq1:@>77#!HrRha!`GLZGiQ..M%#[Z:UMaMTSpHsQ]if5rAS5y]IwFNF9b\\\\'YQe/cJ9D7C/sZsg4B)<`CJDLroCXLOGv5`FyFDhHzD84h0=0cCr!y4xlQwT2T*Il[v^TQfPacskrlKUdBEAJxRq<InlI4Ye9R#RqzynMx8007W0c(QT1<GXM_TH8Ss(8auWPGF%m<F4A)Pc^Ank7B1Dz$l@ t*w2O:wLw(ObE)-^6@]V0.?_QU<dzO$`ZC-!a` D*U4Awm![y8jI%QN?83W@i?6PLeajk@KbsG%J6/$/.tVlh2!As8XFkL5d#\\\\'35%ZVdtGjSg1J_2*i9a^rMbRdr715J#m^MNh2*F`ql)9^Y!i-rb1VoUMkoF*Av#z:Xa5-b89f3U PnyraFPF%K\\\\'cJjB9vwt]Z%T ^n0hS-TV5o>rAs#ZlE2uWD7Rw80S]3pb%@^$k:OWzqw@bdobhdStUUYcyMyPdJ\",\n",
       "       'Mozilla/5.00 (Nikto/2.1.6) (Evasions:None) (Test:004116)'],\n",
       "      dtype=object)"
      ]
     },
     "execution_count": 338,
     "metadata": {},
     "output_type": "execute_result"
    }
   ],
   "source": [
    "df.query(\"cluster == 1\")[\"vector\"].values[:10]"
   ]
  },
  {
   "cell_type": "code",
   "execution_count": 340,
   "id": "a058b01b",
   "metadata": {},
   "outputs": [
    {
     "name": "stdout",
     "output_type": "stream",
     "text": [
      "[0.10209568 0.07247595]\n"
     ]
    },
    {
     "data": {
      "image/png": "[encoded data removed]",
      "text/plain": [
       "<Figure size 1008x648 with 1 Axes>"
      ]
     },
     "metadata": {
      "needs_background": "light"
     },
     "output_type": "display_data"
    }
   ],
   "source": [
    "from sklearn.decomposition import PCA\n",
    "\n",
    "pca = PCA(n_components=2).fit(X_with_new_features)\n",
    "df[\"pca_x\"], df[\"pca_y\"] = pca.transform(X_with_new_features).T\n",
    "\n",
    "print(pca.explained_variance_ratio_)\n",
    "f, ax = plt.subplots(1, 1, figsize=(14, 9))\n",
    "for cluster, one_cluster_data in df.groupby(\"cluster\"):\n",
    "    ax.scatter(one_cluster_data[\"pca_x\"], one_cluster_data[\"pca_y\"], label=f\"Cluster {cluster}\")\n",
    "ax.legend()\n",
    "plt.show()"
   ]
  },
  {
   "cell_type": "markdown",
   "id": "71cf5940",
   "metadata": {},
   "source": [
    "## Conclusion\n",
    "\n",
    "1. I need to improve my knowledge about existing injection algorithms\n",
    "\n",
    "2. Brootforce solution won't work due to non-pure NLP task origin"
   ]
  }
 ],
 "metadata": {
  "kernelspec": {
   "display_name": "Python 3 (ipykernel)",
   "language": "python",
   "name": "python3"
  },
  "language_info": {
   "codemirror_mode": {
    "name": "ipython",
    "version": 3
   },
   "file_extension": ".py",
   "mimetype": "text/x-python",
   "name": "python",
   "nbconvert_exporter": "python",
   "pygments_lexer": "ipython3",
   "version": "3.8.7"
  }
 },
 "nbformat": 4,
 "nbformat_minor": 5
}
